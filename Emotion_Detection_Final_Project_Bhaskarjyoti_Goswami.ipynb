{
  "nbformat": 4,
  "nbformat_minor": 0,
  "metadata": {
    "colab": {
      "provenance": [],
      "gpuType": "T4"
    },
    "kernelspec": {
      "name": "python3",
      "display_name": "Python 3"
    },
    "language_info": {
      "name": "python"
    },
    "accelerator": "GPU"
  },
  "cells": [
    {
      "cell_type": "markdown",
      "source": [
        "*   Name: Bhaskarjyoti Goswami\n",
        "*   Project: Final Project on Emotion Detection using CNN\n",
        "*   Dataset: kaggle datasets download -d ananthu017/emotion-detection-fer\n",
        "*   Program: Applied DS, ML & Edge AI, Batch-3\n",
        "\n",
        "\n",
        "\n",
        "\n",
        "\n",
        "\n",
        "\n"
      ],
      "metadata": {
        "id": "8hUaYso_LLsr"
      }
    },
    {
      "cell_type": "code",
      "execution_count": 1,
      "metadata": {
        "id": "JXvSmn0_NwdL"
      },
      "outputs": [],
      "source": [
        "!mkdir -p ~/.kaggle\n",
        "!cp kaggle.json ~/.kaggle/"
      ]
    },
    {
      "cell_type": "code",
      "source": [
        "! chmod 600 ~/.kaggle/kaggle.json"
      ],
      "metadata": {
        "id": "6Z_gG4piPkcs"
      },
      "execution_count": 2,
      "outputs": []
    },
    {
      "cell_type": "code",
      "source": [
        "! kaggle datasets download -d ananthu017/emotion-detection-fer"
      ],
      "metadata": {
        "colab": {
          "base_uri": "https://localhost:8080/"
        },
        "id": "AesxQy1pPsm8",
        "outputId": "dae38f6d-58ae-495c-b86d-6c6f56987858"
      },
      "execution_count": 3,
      "outputs": [
        {
          "output_type": "stream",
          "name": "stdout",
          "text": [
            "Downloading emotion-detection-fer.zip to /content\n",
            " 63% 41.0M/65.2M [00:00<00:00, 48.2MB/s]\n",
            "100% 65.2M/65.2M [00:00<00:00, 70.0MB/s]\n"
          ]
        }
      ]
    },
    {
      "cell_type": "code",
      "source": [
        "import zipfile\n",
        "zip_ref = zipfile.ZipFile('/content/emotion-detection-fer.zip', 'r')\n",
        "zip_ref.extractall('/content')\n",
        "zip_ref.close()  #unzipping the file and reading it"
      ],
      "metadata": {
        "id": "Qvfttgu7P0-6"
      },
      "execution_count": 4,
      "outputs": []
    },
    {
      "cell_type": "code",
      "source": [
        "import numpy as np\n",
        "import pandas as pd\n",
        "import random\n",
        "import tensorflow as tf\n",
        "import os , cv2\n",
        "import matplotlib.pyplot as plt\n",
        "from sklearn.metrics import classification_report,confusion_matrix\n",
        "import keras\n",
        "from keras.models import Sequential\n",
        "from keras.layers import Convolution2D, MaxPooling2D, Flatten, Dense, Input, Dropout"
      ],
      "metadata": {
        "id": "QEZCIrRpQSGe"
      },
      "execution_count": 5,
      "outputs": []
    },
    {
      "cell_type": "code",
      "source": [
        "train = '/content/train'\n",
        "label_list = os.listdir(train)\n",
        "\n",
        "print(label_list)"
      ],
      "metadata": {
        "colab": {
          "base_uri": "https://localhost:8080/"
        },
        "id": "ImMEMQ16VW6y",
        "outputId": "afd0b4d0-7002-4559-fbac-04ba361842df"
      },
      "execution_count": 6,
      "outputs": [
        {
          "output_type": "stream",
          "name": "stdout",
          "text": [
            "['neutral', 'disgusted', 'happy', 'surprised', 'fearful', 'sad', 'angry']\n"
          ]
        }
      ]
    },
    {
      "cell_type": "markdown",
      "source": [
        "The Dataset has 7 classes"
      ],
      "metadata": {
        "id": "-0dXRkl7Y1B7"
      }
    },
    {
      "cell_type": "code",
      "source": [
        "# generators\n",
        "train= keras.utils.image_dataset_from_directory(\n",
        "    directory = '/content/train',\n",
        "    labels='inferred',\n",
        "    label_mode = 'categorical',\n",
        "    batch_size=32,\n",
        "    image_size=(256,256)\n",
        ")\n",
        "\n",
        "test= keras.utils.image_dataset_from_directory(\n",
        "    directory = '/content/test',\n",
        "    labels='inferred',\n",
        "    label_mode = 'categorical',\n",
        "    batch_size=32,\n",
        "    image_size=(256,256)\n",
        ")"
      ],
      "metadata": {
        "colab": {
          "base_uri": "https://localhost:8080/"
        },
        "id": "nNuQKB_cQkZe",
        "outputId": "7c8bffc9-c5cc-470e-f086-86bb3cca9c10"
      },
      "execution_count": 7,
      "outputs": [
        {
          "output_type": "stream",
          "name": "stdout",
          "text": [
            "Found 28709 files belonging to 7 classes.\n",
            "Found 7178 files belonging to 7 classes.\n"
          ]
        }
      ]
    },
    {
      "cell_type": "code",
      "source": [
        "train"
      ],
      "metadata": {
        "colab": {
          "base_uri": "https://localhost:8080/"
        },
        "id": "cVnVI6xlQ0wX",
        "outputId": "084b419d-c9fb-4f96-b1f9-4ae9277baad8"
      },
      "execution_count": 8,
      "outputs": [
        {
          "output_type": "execute_result",
          "data": {
            "text/plain": [
              "<_BatchDataset element_spec=(TensorSpec(shape=(None, 256, 256, 3), dtype=tf.float32, name=None), TensorSpec(shape=(None, 7), dtype=tf.float32, name=None))>"
            ]
          },
          "metadata": {},
          "execution_count": 8
        }
      ]
    },
    {
      "cell_type": "code",
      "source": [
        "test"
      ],
      "metadata": {
        "colab": {
          "base_uri": "https://localhost:8080/"
        },
        "id": "t0QbIQpwTTrr",
        "outputId": "70ba7cf5-d6c6-4f97-aa61-91da13a0b3a4"
      },
      "execution_count": 9,
      "outputs": [
        {
          "output_type": "execute_result",
          "data": {
            "text/plain": [
              "<_BatchDataset element_spec=(TensorSpec(shape=(None, 256, 256, 3), dtype=tf.float32, name=None), TensorSpec(shape=(None, 7), dtype=tf.float32, name=None))>"
            ]
          },
          "metadata": {},
          "execution_count": 9
        }
      ]
    },
    {
      "cell_type": "code",
      "source": [
        "# Normalize the dataset by dividing the image pixel to 255. we can also use minmax scaler to normalize the data\n",
        "def process(image,label):\n",
        "    image = tf.cast(image/255. ,tf.float32) #here float is to print the reminder in float form\n",
        "    return image,label\n",
        "\n",
        "train= train.map(process)\n",
        "test= test.map(process)"
      ],
      "metadata": {
        "id": "1lmi7q0QQ8Hv"
      },
      "execution_count": 10,
      "outputs": []
    },
    {
      "cell_type": "code",
      "source": [
        "from keras.layers import Dense,Conv2D,MaxPooling2D,Flatten,BatchNormalization,Dropout"
      ],
      "metadata": {
        "id": "iyyvmLyORAcs"
      },
      "execution_count": 11,
      "outputs": []
    },
    {
      "cell_type": "markdown",
      "source": [
        "## Building CNN Model-1"
      ],
      "metadata": {
        "id": "7N_CY-DBZhB-"
      }
    },
    {
      "cell_type": "code",
      "source": [
        "# create CNN model\n",
        "\n",
        "num_classes=len(label_list)\n",
        "\n",
        "model1 = Sequential()\n",
        "\n",
        "model1.add(Conv2D(32,kernel_size=(3,3),padding='valid',activation='relu',input_shape=(256,256,3)))\n",
        "model1.add(BatchNormalization())\n",
        "model1.add(MaxPooling2D(pool_size=(2,2),strides=2,padding='valid'))\n",
        "\n",
        "model1.add(Conv2D(64,kernel_size=(3,3),padding='valid',activation='relu'))\n",
        "model1.add(BatchNormalization())\n",
        "model1.add(MaxPooling2D(pool_size=(2,2),strides=2,padding='valid'))\n",
        "\n",
        "model1.add(Conv2D(128,kernel_size=(3,3),padding='valid',activation='relu'))\n",
        "model1.add(BatchNormalization())\n",
        "model1.add(MaxPooling2D(pool_size=(2,2),strides=2,padding='valid'))\n",
        "\n",
        "\n",
        "model1.add(Flatten())\n",
        "model1.add(Dropout(0.3))\n",
        "model1.add(Dense(num_classes, activation=\"softmax\"))"
      ],
      "metadata": {
        "id": "IuPtLbRYRGEa"
      },
      "execution_count": 12,
      "outputs": []
    },
    {
      "cell_type": "code",
      "source": [
        "model1.summary()"
      ],
      "metadata": {
        "colab": {
          "base_uri": "https://localhost:8080/"
        },
        "id": "OR8JwgCmRMtd",
        "outputId": "d93d007c-4430-447b-9a52-2680c1b9e882"
      },
      "execution_count": 13,
      "outputs": [
        {
          "output_type": "stream",
          "name": "stdout",
          "text": [
            "Model: \"sequential\"\n",
            "_________________________________________________________________\n",
            " Layer (type)                Output Shape              Param #   \n",
            "=================================================================\n",
            " conv2d (Conv2D)             (None, 254, 254, 32)      896       \n",
            "                                                                 \n",
            " batch_normalization (Batch  (None, 254, 254, 32)      128       \n",
            " Normalization)                                                  \n",
            "                                                                 \n",
            " max_pooling2d (MaxPooling2  (None, 127, 127, 32)      0         \n",
            " D)                                                              \n",
            "                                                                 \n",
            " conv2d_1 (Conv2D)           (None, 125, 125, 64)      18496     \n",
            "                                                                 \n",
            " batch_normalization_1 (Bat  (None, 125, 125, 64)      256       \n",
            " chNormalization)                                                \n",
            "                                                                 \n",
            " max_pooling2d_1 (MaxPoolin  (None, 62, 62, 64)        0         \n",
            " g2D)                                                            \n",
            "                                                                 \n",
            " conv2d_2 (Conv2D)           (None, 60, 60, 128)       73856     \n",
            "                                                                 \n",
            " batch_normalization_2 (Bat  (None, 60, 60, 128)       512       \n",
            " chNormalization)                                                \n",
            "                                                                 \n",
            " max_pooling2d_2 (MaxPoolin  (None, 30, 30, 128)       0         \n",
            " g2D)                                                            \n",
            "                                                                 \n",
            " flatten (Flatten)           (None, 115200)            0         \n",
            "                                                                 \n",
            " dropout (Dropout)           (None, 115200)            0         \n",
            "                                                                 \n",
            " dense (Dense)               (None, 7)                 806407    \n",
            "                                                                 \n",
            "=================================================================\n",
            "Total params: 900551 (3.44 MB)\n",
            "Trainable params: 900103 (3.43 MB)\n",
            "Non-trainable params: 448 (1.75 KB)\n",
            "_________________________________________________________________\n"
          ]
        }
      ]
    },
    {
      "cell_type": "code",
      "source": [
        "from keras import callbacks # importing callbacks from keras to use early stopping\n",
        "\n",
        "callback= tf.keras.callbacks.EarlyStopping(monitor='loss', patience=5)\n",
        "#early stopping helps in stopping the running of epochs, when there is a best accuracy among them."
      ],
      "metadata": {
        "id": "RNr5lrWtRQfm"
      },
      "execution_count": 14,
      "outputs": []
    },
    {
      "cell_type": "code",
      "source": [
        "model1.compile(optimizer='adam',loss='categorical_crossentropy',metrics=['accuracy'])"
      ],
      "metadata": {
        "id": "K7MiL-wu0AmQ"
      },
      "execution_count": 15,
      "outputs": []
    },
    {
      "cell_type": "code",
      "source": [
        "history = model1.fit(train,epochs= 20,validation_data=test, callbacks=[callback])"
      ],
      "metadata": {
        "colab": {
          "base_uri": "https://localhost:8080/"
        },
        "id": "VmKpD59xSGl4",
        "outputId": "9f6ba692-5c95-40dc-e66f-118c752c58f6"
      },
      "execution_count": 16,
      "outputs": [
        {
          "output_type": "stream",
          "name": "stdout",
          "text": [
            "Epoch 1/20\n",
            "898/898 [==============================] - 102s 99ms/step - loss: 13.3518 - accuracy: 0.2702 - val_loss: 7.6473 - val_accuracy: 0.3305\n",
            "Epoch 2/20\n",
            "898/898 [==============================] - 87s 96ms/step - loss: 4.7280 - accuracy: 0.3406 - val_loss: 2.3974 - val_accuracy: 0.3157\n",
            "Epoch 3/20\n",
            "898/898 [==============================] - 89s 98ms/step - loss: 1.6942 - accuracy: 0.4377 - val_loss: 1.6033 - val_accuracy: 0.3923\n",
            "Epoch 4/20\n",
            "898/898 [==============================] - 88s 98ms/step - loss: 1.3331 - accuracy: 0.5027 - val_loss: 1.5625 - val_accuracy: 0.4147\n",
            "Epoch 5/20\n",
            "898/898 [==============================] - 87s 96ms/step - loss: 1.2726 - accuracy: 0.5250 - val_loss: 1.4861 - val_accuracy: 0.4362\n",
            "Epoch 6/20\n",
            "898/898 [==============================] - 86s 95ms/step - loss: 1.2169 - accuracy: 0.5481 - val_loss: 1.5511 - val_accuracy: 0.4303\n",
            "Epoch 7/20\n",
            "898/898 [==============================] - 85s 95ms/step - loss: 1.1513 - accuracy: 0.5703 - val_loss: 1.4661 - val_accuracy: 0.4695\n",
            "Epoch 8/20\n",
            "898/898 [==============================] - 89s 99ms/step - loss: 1.0689 - accuracy: 0.6027 - val_loss: 1.6241 - val_accuracy: 0.4330\n",
            "Epoch 9/20\n",
            "898/898 [==============================] - 85s 95ms/step - loss: 0.9599 - accuracy: 0.6437 - val_loss: 1.6643 - val_accuracy: 0.4597\n",
            "Epoch 10/20\n",
            "898/898 [==============================] - 86s 96ms/step - loss: 0.8345 - accuracy: 0.6942 - val_loss: 1.9892 - val_accuracy: 0.4369\n",
            "Epoch 11/20\n",
            "898/898 [==============================] - 86s 96ms/step - loss: 0.7351 - accuracy: 0.7298 - val_loss: 2.1421 - val_accuracy: 0.4337\n",
            "Epoch 12/20\n",
            "898/898 [==============================] - 87s 96ms/step - loss: 0.6460 - accuracy: 0.7633 - val_loss: 2.0651 - val_accuracy: 0.4652\n",
            "Epoch 13/20\n",
            "898/898 [==============================] - 89s 99ms/step - loss: 0.5708 - accuracy: 0.7908 - val_loss: 2.9711 - val_accuracy: 0.3491\n",
            "Epoch 14/20\n",
            "898/898 [==============================] - 89s 98ms/step - loss: 0.5402 - accuracy: 0.8051 - val_loss: 2.1284 - val_accuracy: 0.4680\n",
            "Epoch 15/20\n",
            "898/898 [==============================] - 89s 99ms/step - loss: 0.4935 - accuracy: 0.8195 - val_loss: 2.2162 - val_accuracy: 0.4641\n",
            "Epoch 16/20\n",
            "898/898 [==============================] - 86s 95ms/step - loss: 0.4282 - accuracy: 0.8446 - val_loss: 2.4515 - val_accuracy: 0.4719\n",
            "Epoch 17/20\n",
            "898/898 [==============================] - 85s 95ms/step - loss: 0.3950 - accuracy: 0.8580 - val_loss: 2.7238 - val_accuracy: 0.4627\n",
            "Epoch 18/20\n",
            "898/898 [==============================] - 89s 98ms/step - loss: 0.3720 - accuracy: 0.8657 - val_loss: 2.3328 - val_accuracy: 0.4539\n",
            "Epoch 19/20\n",
            "898/898 [==============================] - 89s 99ms/step - loss: 0.3469 - accuracy: 0.8759 - val_loss: 2.6693 - val_accuracy: 0.4497\n",
            "Epoch 20/20\n",
            "898/898 [==============================] - 88s 98ms/step - loss: 0.3198 - accuracy: 0.8863 - val_loss: 3.3812 - val_accuracy: 0.4519\n"
          ]
        }
      ]
    },
    {
      "cell_type": "code",
      "source": [
        "import matplotlib.pyplot as plt\n",
        "\n",
        "plt.plot(history.history['accuracy'],color='red',label='train')\n",
        "plt.plot(history.history['val_accuracy'],color='blue',label='test')\n",
        "plt.legend()\n",
        "plt.show()"
      ],
      "metadata": {
        "colab": {
          "base_uri": "https://localhost:8080/",
          "height": 430
        },
        "id": "xjlBm5MTSQu9",
        "outputId": "a5fa44cb-3732-4eca-adab-8bba0094512b"
      },
      "execution_count": 17,
      "outputs": [
        {
          "output_type": "display_data",
          "data": {
            "text/plain": [
              "<Figure size 640x480 with 1 Axes>"
            ],
            "image/png": "[encoded data removed]"
          },
          "metadata": {}
        }
      ]
    },
    {
      "cell_type": "code",
      "source": [
        "plt.plot(history.history['loss'],color='red',label='train')\n",
        "plt.plot(history.history['val_loss'],color='blue',label='validation')\n",
        "plt.legend()\n",
        "plt.show()"
      ],
      "metadata": {
        "colab": {
          "base_uri": "https://localhost:8080/",
          "height": 435
        },
        "id": "EbIkhoXC-Fn8",
        "outputId": "1548595d-1ed9-40d9-de6b-4a9eafe866b3"
      },
      "execution_count": 18,
      "outputs": [
        {
          "output_type": "display_data",
          "data": {
            "text/plain": [
              "<Figure size 640x480 with 1 Axes>"
            ],
            "image/png": "[encoded data removed]"
          },
          "metadata": {}
        }
      ]
    },
    {
      "cell_type": "markdown",
      "source": [
        "*   The plots show that training accuracy keep on increasing and validation accuracy is moving in the range of 31%- 46%. Both training & validation accuracy are distant apart.\n",
        "*   This is a sign of overfitting.\n",
        "*   To reduce overfitting, data augmentation method is used in below model.\n",
        "\n",
        "\n"
      ],
      "metadata": {
        "id": "DW5QVJ5a-PjJ"
      }
    },
    {
      "cell_type": "code",
      "source": [
        "from tensorflow.keras import layers\n",
        "from tensorflow.keras.preprocessing.image import ImageDataGenerator"
      ],
      "metadata": {
        "id": "41Y4fSwficie"
      },
      "execution_count": 19,
      "outputs": []
    },
    {
      "cell_type": "code",
      "source": [
        "# Define the dimensions of dataset images\n",
        "img_height = 48\n",
        "img_width = 48\n",
        "batch_size = 32"
      ],
      "metadata": {
        "id": "2mtlMetZizUt"
      },
      "execution_count": 20,
      "outputs": []
    },
    {
      "cell_type": "code",
      "source": [
        "# Create an ImageDataGenerator for data augmentation\n",
        "train_datagen = ImageDataGenerator(\n",
        "    rescale=1.0 / 255,\n",
        "    rotation_range=15,\n",
        "    width_shift_range=0.1,\n",
        "    height_shift_range=0.1,\n",
        "    shear_range=0.1,\n",
        "    zoom_range=0.1,\n",
        "    horizontal_flip=True,\n",
        "    fill_mode='nearest'\n",
        ")"
      ],
      "metadata": {
        "id": "QnQ_WpO5qV0-"
      },
      "execution_count": 21,
      "outputs": []
    },
    {
      "cell_type": "code",
      "source": [
        "validation_datagen = ImageDataGenerator(rescale=1.0/255)"
      ],
      "metadata": {
        "id": "LrlkudxIAXl9"
      },
      "execution_count": 22,
      "outputs": []
    },
    {
      "cell_type": "code",
      "source": [
        "# Load the training dataset\n",
        "train_data = train_datagen.flow_from_directory(\n",
        "    '/content/train',\n",
        "    target_size=(img_height, img_width),\n",
        "    batch_size=batch_size,\n",
        "    class_mode='categorical'\n",
        ")"
      ],
      "metadata": {
        "colab": {
          "base_uri": "https://localhost:8080/"
        },
        "id": "U9PlTdhLqVw1",
        "outputId": "68f617b8-207e-42c4-affc-8f3265abbbfa"
      },
      "execution_count": 23,
      "outputs": [
        {
          "output_type": "stream",
          "name": "stdout",
          "text": [
            "Found 28709 images belonging to 7 classes.\n"
          ]
        }
      ]
    },
    {
      "cell_type": "code",
      "source": [
        "test_data = validation_datagen.flow_from_directory(\n",
        "    '/content/test',\n",
        "    target_size=(img_height, img_width),\n",
        "    batch_size=batch_size,\n",
        "    class_mode='categorical'\n",
        ")"
      ],
      "metadata": {
        "colab": {
          "base_uri": "https://localhost:8080/"
        },
        "id": "8SWk_QWvAvbN",
        "outputId": "c7caa184-1146-4234-86f0-f1a6e33b8120"
      },
      "execution_count": 24,
      "outputs": [
        {
          "output_type": "stream",
          "name": "stdout",
          "text": [
            "Found 7178 images belonging to 7 classes.\n"
          ]
        }
      ]
    },
    {
      "cell_type": "markdown",
      "source": [
        "## Building CNN Model-2"
      ],
      "metadata": {
        "id": "CPX7-UkqZuzA"
      }
    },
    {
      "cell_type": "code",
      "source": [
        "# CNN Model-2\n",
        "\n",
        "model2 = Sequential()\n",
        "\n",
        "model2.add(Conv2D(32,kernel_size=(3,3),activation='relu',input_shape=(48,48,3)))\n",
        "model2.add(MaxPooling2D(pool_size=(2,2)))\n",
        "\n",
        "model2.add(Conv2D(64,kernel_size=(3,3),activation='relu'))\n",
        "model2.add(MaxPooling2D(pool_size=(2,2)))\n",
        "\n",
        "model2.add(Conv2D(128,kernel_size=(3,3),activation='relu'))\n",
        "model2.add(MaxPooling2D(pool_size=(2,2)))\n",
        "\n",
        "\n",
        "model2.add(Flatten())\n",
        "model2.add(Dense(128, activation='relu'))\n",
        "model2.add(Dropout(0.2))\n",
        "model2.add(Dense(7, activation=\"softmax\"))    # 7 emotion classes"
      ],
      "metadata": {
        "id": "VpVFL9myqVs-"
      },
      "execution_count": 25,
      "outputs": []
    },
    {
      "cell_type": "code",
      "source": [
        "model2.summary()"
      ],
      "metadata": {
        "colab": {
          "base_uri": "https://localhost:8080/"
        },
        "id": "VCL3_vIPq7dY",
        "outputId": "8ac7bd18-0fba-4d0c-bc9c-241d2c82d0f1"
      },
      "execution_count": 26,
      "outputs": [
        {
          "output_type": "stream",
          "name": "stdout",
          "text": [
            "Model: \"sequential_1\"\n",
            "_________________________________________________________________\n",
            " Layer (type)                Output Shape              Param #   \n",
            "=================================================================\n",
            " conv2d_3 (Conv2D)           (None, 46, 46, 32)        896       \n",
            "                                                                 \n",
            " max_pooling2d_3 (MaxPoolin  (None, 23, 23, 32)        0         \n",
            " g2D)                                                            \n",
            "                                                                 \n",
            " conv2d_4 (Conv2D)           (None, 21, 21, 64)        18496     \n",
            "                                                                 \n",
            " max_pooling2d_4 (MaxPoolin  (None, 10, 10, 64)        0         \n",
            " g2D)                                                            \n",
            "                                                                 \n",
            " conv2d_5 (Conv2D)           (None, 8, 8, 128)         73856     \n",
            "                                                                 \n",
            " max_pooling2d_5 (MaxPoolin  (None, 4, 4, 128)         0         \n",
            " g2D)                                                            \n",
            "                                                                 \n",
            " flatten_1 (Flatten)         (None, 2048)              0         \n",
            "                                                                 \n",
            " dense_1 (Dense)             (None, 128)               262272    \n",
            "                                                                 \n",
            " dropout_1 (Dropout)         (None, 128)               0         \n",
            "                                                                 \n",
            " dense_2 (Dense)             (None, 7)                 903       \n",
            "                                                                 \n",
            "=================================================================\n",
            "Total params: 356423 (1.36 MB)\n",
            "Trainable params: 356423 (1.36 MB)\n",
            "Non-trainable params: 0 (0.00 Byte)\n",
            "_________________________________________________________________\n"
          ]
        }
      ]
    },
    {
      "cell_type": "code",
      "source": [
        "# Compile the model-2\n",
        "model2.compile(optimizer='adam', loss='categorical_crossentropy', metrics=['accuracy'])"
      ],
      "metadata": {
        "id": "34zhvGHFCzOd"
      },
      "execution_count": 27,
      "outputs": []
    },
    {
      "cell_type": "code",
      "source": [
        "from keras import callbacks# importing callbacks from keras to use early stopping\n",
        "#early stopping helps in stopping the running of epochs, when there is a best accuracy among them.\n",
        "callback= tf.keras.callbacks.EarlyStopping(monitor='loss', patience=5)"
      ],
      "metadata": {
        "id": "G9xycCsxQ6Kd"
      },
      "execution_count": 28,
      "outputs": []
    },
    {
      "cell_type": "code",
      "source": [
        "# Train the model-2\n",
        "history1= model2.fit(train_data, epochs=50,validation_data=test_data,callbacks=[callback])"
      ],
      "metadata": {
        "colab": {
          "base_uri": "https://localhost:8080/"
        },
        "id": "Z0jepbKEq7be",
        "outputId": "7735af6a-7859-41e6-ad5c-bc113c2646d3"
      },
      "execution_count": 29,
      "outputs": [
        {
          "output_type": "stream",
          "name": "stdout",
          "text": [
            "Epoch 1/50\n",
            "898/898 [==============================] - 43s 45ms/step - loss: 1.7540 - accuracy: 0.2824 - val_loss: 1.6084 - val_accuracy: 0.3573\n",
            "Epoch 2/50\n",
            "898/898 [==============================] - 41s 45ms/step - loss: 1.5836 - accuracy: 0.3774 - val_loss: 1.3927 - val_accuracy: 0.4682\n",
            "Epoch 3/50\n",
            "898/898 [==============================] - 42s 46ms/step - loss: 1.4526 - accuracy: 0.4394 - val_loss: 1.3034 - val_accuracy: 0.4950\n",
            "Epoch 4/50\n",
            "898/898 [==============================] - 42s 47ms/step - loss: 1.3853 - accuracy: 0.4689 - val_loss: 1.2391 - val_accuracy: 0.5237\n",
            "Epoch 5/50\n",
            "898/898 [==============================] - 40s 45ms/step - loss: 1.3297 - accuracy: 0.4920 - val_loss: 1.2007 - val_accuracy: 0.5408\n",
            "Epoch 6/50\n",
            "898/898 [==============================] - 40s 45ms/step - loss: 1.3101 - accuracy: 0.5002 - val_loss: 1.1974 - val_accuracy: 0.5453\n",
            "Epoch 7/50\n",
            "898/898 [==============================] - 40s 45ms/step - loss: 1.2796 - accuracy: 0.5126 - val_loss: 1.1960 - val_accuracy: 0.5458\n",
            "Epoch 8/50\n",
            "898/898 [==============================] - 42s 47ms/step - loss: 1.2557 - accuracy: 0.5210 - val_loss: 1.1746 - val_accuracy: 0.5541\n",
            "Epoch 9/50\n",
            "898/898 [==============================] - 39s 44ms/step - loss: 1.2467 - accuracy: 0.5277 - val_loss: 1.1601 - val_accuracy: 0.5600\n",
            "Epoch 10/50\n",
            "898/898 [==============================] - 41s 45ms/step - loss: 1.2321 - accuracy: 0.5337 - val_loss: 1.1328 - val_accuracy: 0.5669\n",
            "Epoch 11/50\n",
            "898/898 [==============================] - 42s 47ms/step - loss: 1.2168 - accuracy: 0.5373 - val_loss: 1.1457 - val_accuracy: 0.5598\n",
            "Epoch 12/50\n",
            "898/898 [==============================] - 41s 46ms/step - loss: 1.2111 - accuracy: 0.5417 - val_loss: 1.1472 - val_accuracy: 0.5659\n",
            "Epoch 13/50\n",
            "898/898 [==============================] - 41s 46ms/step - loss: 1.1988 - accuracy: 0.5456 - val_loss: 1.1244 - val_accuracy: 0.5727\n",
            "Epoch 14/50\n",
            "898/898 [==============================] - 42s 46ms/step - loss: 1.1789 - accuracy: 0.5510 - val_loss: 1.1493 - val_accuracy: 0.5639\n",
            "Epoch 15/50\n",
            "898/898 [==============================] - 40s 44ms/step - loss: 1.1760 - accuracy: 0.5539 - val_loss: 1.1282 - val_accuracy: 0.5712\n",
            "Epoch 16/50\n",
            "898/898 [==============================] - 40s 44ms/step - loss: 1.1697 - accuracy: 0.5579 - val_loss: 1.1085 - val_accuracy: 0.5815\n",
            "Epoch 17/50\n",
            "898/898 [==============================] - 41s 46ms/step - loss: 1.1605 - accuracy: 0.5611 - val_loss: 1.1144 - val_accuracy: 0.5822\n",
            "Epoch 18/50\n",
            "898/898 [==============================] - 40s 45ms/step - loss: 1.1574 - accuracy: 0.5602 - val_loss: 1.1067 - val_accuracy: 0.5783\n",
            "Epoch 19/50\n",
            "898/898 [==============================] - 40s 44ms/step - loss: 1.1519 - accuracy: 0.5652 - val_loss: 1.1278 - val_accuracy: 0.5734\n",
            "Epoch 20/50\n",
            "898/898 [==============================] - 40s 44ms/step - loss: 1.1411 - accuracy: 0.5673 - val_loss: 1.1022 - val_accuracy: 0.5809\n",
            "Epoch 21/50\n",
            "898/898 [==============================] - 40s 44ms/step - loss: 1.1333 - accuracy: 0.5687 - val_loss: 1.0866 - val_accuracy: 0.5933\n",
            "Epoch 22/50\n",
            "898/898 [==============================] - 42s 47ms/step - loss: 1.1326 - accuracy: 0.5732 - val_loss: 1.1263 - val_accuracy: 0.5787\n",
            "Epoch 23/50\n",
            "898/898 [==============================] - 41s 45ms/step - loss: 1.1329 - accuracy: 0.5732 - val_loss: 1.0973 - val_accuracy: 0.5848\n",
            "Epoch 24/50\n",
            "898/898 [==============================] - 41s 46ms/step - loss: 1.1231 - accuracy: 0.5784 - val_loss: 1.1080 - val_accuracy: 0.5812\n",
            "Epoch 25/50\n",
            "898/898 [==============================] - 42s 47ms/step - loss: 1.1176 - accuracy: 0.5768 - val_loss: 1.0960 - val_accuracy: 0.5871\n",
            "Epoch 26/50\n",
            "898/898 [==============================] - 41s 46ms/step - loss: 1.1140 - accuracy: 0.5761 - val_loss: 1.0799 - val_accuracy: 0.5883\n",
            "Epoch 27/50\n",
            "898/898 [==============================] - 40s 45ms/step - loss: 1.1132 - accuracy: 0.5792 - val_loss: 1.0875 - val_accuracy: 0.5915\n",
            "Epoch 28/50\n",
            "898/898 [==============================] - 41s 45ms/step - loss: 1.1045 - accuracy: 0.5830 - val_loss: 1.1113 - val_accuracy: 0.5848\n",
            "Epoch 29/50\n",
            "898/898 [==============================] - 42s 47ms/step - loss: 1.0991 - accuracy: 0.5848 - val_loss: 1.0838 - val_accuracy: 0.5840\n",
            "Epoch 30/50\n",
            "898/898 [==============================] - 40s 45ms/step - loss: 1.0961 - accuracy: 0.5858 - val_loss: 1.0947 - val_accuracy: 0.5958\n",
            "Epoch 31/50\n",
            "898/898 [==============================] - 41s 45ms/step - loss: 1.0968 - accuracy: 0.5859 - val_loss: 1.0822 - val_accuracy: 0.5960\n",
            "Epoch 32/50\n",
            "898/898 [==============================] - 41s 45ms/step - loss: 1.0957 - accuracy: 0.5838 - val_loss: 1.0642 - val_accuracy: 0.5988\n",
            "Epoch 33/50\n",
            "898/898 [==============================] - 42s 46ms/step - loss: 1.0889 - accuracy: 0.5898 - val_loss: 1.0676 - val_accuracy: 0.5950\n",
            "Epoch 34/50\n",
            "898/898 [==============================] - 40s 45ms/step - loss: 1.0881 - accuracy: 0.5880 - val_loss: 1.0859 - val_accuracy: 0.5926\n",
            "Epoch 35/50\n",
            "898/898 [==============================] - 41s 45ms/step - loss: 1.0838 - accuracy: 0.5882 - val_loss: 1.0904 - val_accuracy: 0.5880\n",
            "Epoch 36/50\n",
            "898/898 [==============================] - 43s 48ms/step - loss: 1.0763 - accuracy: 0.5905 - val_loss: 1.0870 - val_accuracy: 0.5926\n",
            "Epoch 37/50\n",
            "898/898 [==============================] - 41s 45ms/step - loss: 1.0784 - accuracy: 0.5901 - val_loss: 1.0730 - val_accuracy: 0.5999\n",
            "Epoch 38/50\n",
            "898/898 [==============================] - 41s 45ms/step - loss: 1.0751 - accuracy: 0.5935 - val_loss: 1.0826 - val_accuracy: 0.5970\n",
            "Epoch 39/50\n",
            "898/898 [==============================] - 43s 48ms/step - loss: 1.0718 - accuracy: 0.5927 - val_loss: 1.0745 - val_accuracy: 0.5974\n",
            "Epoch 40/50\n",
            "898/898 [==============================] - 40s 45ms/step - loss: 1.0641 - accuracy: 0.5971 - val_loss: 1.0768 - val_accuracy: 0.5929\n",
            "Epoch 41/50\n",
            "898/898 [==============================] - 40s 45ms/step - loss: 1.0695 - accuracy: 0.5957 - val_loss: 1.0712 - val_accuracy: 0.5975\n",
            "Epoch 42/50\n",
            "898/898 [==============================] - 40s 45ms/step - loss: 1.0677 - accuracy: 0.5962 - val_loss: 1.0549 - val_accuracy: 0.6062\n",
            "Epoch 43/50\n",
            "898/898 [==============================] - 43s 48ms/step - loss: 1.0645 - accuracy: 0.5998 - val_loss: 1.0632 - val_accuracy: 0.6006\n",
            "Epoch 44/50\n",
            "898/898 [==============================] - 44s 49ms/step - loss: 1.0602 - accuracy: 0.6018 - val_loss: 1.0653 - val_accuracy: 0.5979\n",
            "Epoch 45/50\n",
            "898/898 [==============================] - 43s 48ms/step - loss: 1.0564 - accuracy: 0.6001 - val_loss: 1.0718 - val_accuracy: 0.5929\n",
            "Epoch 46/50\n",
            "898/898 [==============================] - 41s 45ms/step - loss: 1.0571 - accuracy: 0.5977 - val_loss: 1.0620 - val_accuracy: 0.6010\n",
            "Epoch 47/50\n",
            "898/898 [==============================] - 40s 45ms/step - loss: 1.0540 - accuracy: 0.6039 - val_loss: 1.0775 - val_accuracy: 0.5996\n",
            "Epoch 48/50\n",
            "898/898 [==============================] - 40s 45ms/step - loss: 1.0526 - accuracy: 0.6037 - val_loss: 1.0630 - val_accuracy: 0.6049\n",
            "Epoch 49/50\n",
            "898/898 [==============================] - 41s 46ms/step - loss: 1.0525 - accuracy: 0.6026 - val_loss: 1.0501 - val_accuracy: 0.6049\n",
            "Epoch 50/50\n",
            "898/898 [==============================] - 41s 45ms/step - loss: 1.0459 - accuracy: 0.6079 - val_loss: 1.0368 - val_accuracy: 0.6156\n"
          ]
        }
      ]
    },
    {
      "cell_type": "code",
      "source": [
        "import matplotlib.pyplot as plt\n",
        "\n",
        "plt.plot(history1.history['accuracy'],color='red',label='train')\n",
        "plt.plot(history1.history['val_accuracy'],color='blue',label='test')\n",
        "plt.legend()\n",
        "plt.show()"
      ],
      "metadata": {
        "colab": {
          "base_uri": "https://localhost:8080/",
          "height": 430
        },
        "id": "EMZyMWGHq7Zl",
        "outputId": "c4abe91c-028b-45c5-8d90-a8281643b80f"
      },
      "execution_count": 30,
      "outputs": [
        {
          "output_type": "display_data",
          "data": {
            "text/plain": [
              "<Figure size 640x480 with 1 Axes>"
            ],
            "image/png": "[encoded data removed]"
          },
          "metadata": {}
        }
      ]
    },
    {
      "cell_type": "markdown",
      "source": [
        "Both Training & Validation accuracy keep on increasing."
      ],
      "metadata": {
        "id": "LV4ihHOeZEr0"
      }
    },
    {
      "cell_type": "code",
      "source": [
        "plt.plot(history1.history['loss'],color='red',label='train')\n",
        "plt.plot(history1.history['val_loss'],color='blue',label='validation')\n",
        "plt.legend()\n",
        "plt.show()"
      ],
      "metadata": {
        "colab": {
          "base_uri": "https://localhost:8080/",
          "height": 430
        },
        "id": "sYjdVTdwq7U3",
        "outputId": "f6fe6396-041d-4d54-8a1a-6a845cc98a81"
      },
      "execution_count": 31,
      "outputs": [
        {
          "output_type": "display_data",
          "data": {
            "text/plain": [
              "<Figure size 640x480 with 1 Axes>"
            ],
            "image/png": "[encoded data removed]"
          },
          "metadata": {}
        }
      ]
    },
    {
      "cell_type": "markdown",
      "source": [
        "Both Training & Validation losses are decreasing."
      ],
      "metadata": {
        "id": "JHse5OMlZNC9"
      }
    },
    {
      "cell_type": "markdown",
      "source": [
        "## Evaluate the final model on the test set"
      ],
      "metadata": {
        "id": "F8WfpsgkCnng"
      }
    },
    {
      "cell_type": "code",
      "source": [
        "loss, accuracy = model2.evaluate(test_data)\n",
        "\n",
        "# Print the loss and accuracy\n",
        "print(\"Loss: \", loss)\n",
        "print(\"Accuracy: \", accuracy)"
      ],
      "metadata": {
        "colab": {
          "base_uri": "https://localhost:8080/"
        },
        "id": "Fm8zMU8BCqXE",
        "outputId": "b83e6d84-ec37-4945-aeab-1dcc092038b7"
      },
      "execution_count": 32,
      "outputs": [
        {
          "output_type": "stream",
          "name": "stdout",
          "text": [
            "225/225 [==============================] - 3s 13ms/step - loss: 1.0368 - accuracy: 0.6156\n",
            "Loss:  1.0368489027023315\n",
            "Accuracy:  0.615631103515625\n"
          ]
        }
      ]
    },
    {
      "cell_type": "code",
      "source": [
        "im_path = \"/content/test/angry/im112.png\"\n",
        "img = tf.keras.utils.load_img(\n",
        "    im_path, target_size=(img_height, img_width)\n",
        ")\n",
        "print(img.size)\n",
        "img_array = tf.keras.utils.img_to_array(img)\n",
        "img_array = tf.expand_dims(img_array, 0) # Create a batch\n",
        "print(img_array.shape)\n",
        "predictions = model2.predict(img_array)\n",
        "score = tf.nn.softmax(predictions[0])\n",
        "\n",
        "print(\n",
        "    \"This image most likely belongs to {} with a {:.2f} percent confidence.\"\n",
        "    .format(label_list[np.argmax(score)], 100 * np.max(score))\n",
        ")"
      ],
      "metadata": {
        "id": "1gdypayo5VaX",
        "colab": {
          "base_uri": "https://localhost:8080/"
        },
        "outputId": "a8a1489c-54eb-436e-f81d-9dce9966983d"
      },
      "execution_count": 45,
      "outputs": [
        {
          "output_type": "stream",
          "name": "stdout",
          "text": [
            "(48, 48)\n",
            "(1, 48, 48, 3)\n",
            "1/1 [==============================] - 0s 21ms/step\n",
            "This image most likely belongs to angry with a 31.18 percent confidence.\n"
          ]
        }
      ]
    }
  ]
}